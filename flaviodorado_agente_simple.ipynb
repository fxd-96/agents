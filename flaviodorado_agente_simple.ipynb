{
  "cells": [
    {
      "cell_type": "markdown",
      "metadata": {
        "id": "view-in-github",
        "colab_type": "text"
      },
      "source": [
        "<a href=\"https://colab.research.google.com/github/fxd-96/agents/blob/main/flaviodorado_agente_simple.ipynb\" target=\"_parent\"><img src=\"https://colab.research.google.com/assets/colab-badge.svg\" alt=\"Open In Colab\"/></a>"
      ]
    },
    {
      "cell_type": "markdown",
      "id": "e887557f6df8247e",
      "metadata": {
        "id": "e887557f6df8247e"
      },
      "source": [
        "# Agentes Simple Reflex (Agentes Reactivos Simples)\n",
        "\n"
      ]
    },
    {
      "cell_type": "code",
      "id": "5c1611f14fc28b82",
      "metadata": {
        "ExecuteTime": {
          "end_time": "2025-01-30T17:39:43.109543Z",
          "start_time": "2025-01-30T17:39:42.904507Z"
        },
        "colab": {
          "base_uri": "https://localhost:8080/"
        },
        "id": "5c1611f14fc28b82",
        "outputId": "83cf0093-7d51-4fc8-f8d3-146d933ed5be"
      },
      "source": [
        "import requests\n",
        "\n",
        "def interpret_input(response_status):\n",
        "\n",
        "    if 200 <= response_status < 300:\n",
        "        return \"EXITO\"\n",
        "    elif 400 <= response_status < 500:\n",
        "        return \"CLIENTE_ERROR\"\n",
        "    elif 500 <= response_status < 600:\n",
        "        return \"SERVIDOR_ERROR\"\n",
        "    else:\n",
        "        return \"UNKNOWN\"\n",
        "\n",
        "def rule_match(state):\n",
        "\n",
        "    if state == \"EXITO\":\n",
        "        return \"Registro: Todo esta bien.\"\n",
        "    elif state == \"CLIENTE_ERROR\":\n",
        "        return \"Registro: Checar errores en el cliente.\"\n",
        "    elif state == \"SERVIDOR_ERROR\":\n",
        "        return \"Registro: Checar error en servidor.\"\n",
        "    else:\n",
        "        return \"Registro: Error desconocido.\"\n",
        "\n",
        "def simple_reflex_agent(url):\n",
        "\n",
        "    try:\n",
        "        response = requests.get(url)\n",
        "        state = interpret_input(response.status_code)\n",
        "        action = rule_match(state)\n",
        "        return action\n",
        "    except requests.RequestException as e:\n",
        "        return f\"Error: Failed to fetch the URL. {str(e)}\"\n",
        "\n",
        "# Ejemplo de uso\n",
        "# Revisa la documentacion de los estatus http en https://httpstat.us/\n",
        "url = \"https://httpstat.us/500\"\n",
        "result = simple_reflex_agent(url)\n",
        "print(result)"
      ],
      "outputs": [
        {
          "output_type": "stream",
          "name": "stdout",
          "text": [
            "Registro: Checar error en servidor.\n"
          ]
        }
      ],
      "execution_count": 5
    }
  ],
  "metadata": {
    "kernelspec": {
      "display_name": "Python 3 (ipykernel)",
      "language": "python",
      "name": "python3"
    },
    "language_info": {
      "codemirror_mode": {
        "name": "ipython",
        "version": 3
      },
      "file_extension": ".py",
      "mimetype": "text/x-python",
      "name": "python",
      "nbconvert_exporter": "python",
      "pygments_lexer": "ipython3",
      "version": "3.12.8"
    },
    "colab": {
      "provenance": [],
      "include_colab_link": true
    }
  },
  "nbformat": 4,
  "nbformat_minor": 5
}